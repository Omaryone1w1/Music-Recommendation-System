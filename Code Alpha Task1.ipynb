{
 "cells": [
  {
   "cell_type": "code",
   "execution_count": 31,
   "id": "7f8ce195-ae23-4c10-81fc-0c348df3ac3d",
   "metadata": {
    "scrolled": true
   },
   "outputs": [
    {
     "name": "stdout",
     "output_type": "stream",
     "text": [
      "   Unnamed: 0 Username           Artist                          Track  \\\n",
      "0           0  Babs_05  Isobel Campbell     The Circus Is Leaving Town   \n",
      "1           1  Babs_05  Isobel Campbell                   Dusty Wreath   \n",
      "2           2  Babs_05  Isobel Campbell     Honey Child What Can I Do?   \n",
      "3           3  Babs_05  Isobel Campbell  It's Hard To Kill A Bad Thing   \n",
      "4           4  Babs_05  Isobel Campbell                Saturday's Gone   \n",
      "\n",
      "                       Album         Date    Time  \n",
      "0  Ballad of the Broken Seas  31 Jan 2021   23:36  \n",
      "1  Ballad of the Broken Seas  31 Jan 2021   23:32  \n",
      "2  Ballad of the Broken Seas  31 Jan 2021   23:28  \n",
      "3  Ballad of the Broken Seas  31 Jan 2021   23:25  \n",
      "4  Ballad of the Broken Seas  31 Jan 2021   23:21  \n",
      "Accuracy: 0.838795100959947\n",
      "              precision    recall  f1-score   support\n",
      "\n",
      "           0       0.84      0.92      0.88     20645\n",
      "           1       0.85      0.70      0.77     12586\n",
      "\n",
      "    accuracy                           0.84     33231\n",
      "   macro avg       0.84      0.81      0.82     33231\n",
      "weighted avg       0.84      0.84      0.84     33231\n",
      "\n",
      "Top Recommended Songs:\n",
      "        Track  replay_probability\n",
      "96589    9695                 1.0\n",
      "76003   38815                 1.0\n",
      "116481   5814                 1.0\n",
      "29433   28861                 1.0\n",
      "80084   11095                 1.0\n",
      "80083   24570                 1.0\n",
      "80070   56681                 1.0\n",
      "76001   14968                 1.0\n",
      "76002   12198                 1.0\n",
      "76004   14968                 1.0\n"
     ]
    }
   ],
   "source": [
    "import pandas as pd\n",
    "import numpy as np\n",
    "from sklearn.model_selection import train_test_split\n",
    "from sklearn.ensemble import RandomForestClassifier\n",
    "from sklearn.preprocessing import LabelEncoder\n",
    "from sklearn.metrics import accuracy_score, classification_report\n",
    "\n",
    "# Load dataset (replace with actual file path if needed)\n",
    "df = pd.read_csv(\"Last.fm_data.csv\")\n",
    "\n",
    "# Check dataset structure\n",
    "print(df.head())\n",
    "\n",
    "# Create 'repeated_play' target column\n",
    "df['repeated_play'] = df.duplicated(subset=['Username', 'Track'], keep=False).astype(int)\n",
    "\n",
    "# Encode categorical features\n",
    "label_encoders = {}\n",
    "categorical_features = ['Artist', 'Track', 'Album']\n",
    "for col in categorical_features:\n",
    "    le = LabelEncoder()\n",
    "    df[col] = le.fit_transform(df[col])\n",
    "    label_encoders[col] = le\n",
    "\n",
    "# Selecting features (excluding non-numeric and target column)\n",
    "features = [col for col in df.columns if col not in ['repeated_play', 'Username', 'Date', 'Time']]\n",
    "target = \"repeated_play\"\n",
    "\n",
    "# Splitting data\n",
    "X_train, X_test, y_train, y_test = train_test_split(df[features], df[target], test_size=0.2, random_state=42, stratify=df[target])\n",
    "\n",
    "# Training RandomForest model\n",
    "model = RandomForestClassifier(n_estimators=100, class_weight='balanced', random_state=42)\n",
    "model.fit(X_train, y_train)\n",
    "\n",
    "# Predictions\n",
    "y_pred = model.predict(X_test)\n",
    "\n",
    "# Evaluation\n",
    "print(\"Accuracy:\", accuracy_score(y_test, y_pred))\n",
    "print(classification_report(y_test, y_pred))\n",
    "\n",
    "# Generating song recommendations\n",
    "df[\"replay_probability\"] = model.predict_proba(df[features])[:, 1]\n",
    "top_songs = df.sort_values(\"replay_probability\", ascending=False)[[\"Track\", \"replay_probability\"]].head(10)\n",
    "print(\"Top Recommended Songs:\")\n",
    "print(top_songs)\n"
   ]
  },
  {
   "cell_type": "code",
   "execution_count": null,
   "id": "77a89485-a8d1-4f19-b1ca-0af716be41f5",
   "metadata": {},
   "outputs": [],
   "source": []
  }
 ],
 "metadata": {
  "kernelspec": {
   "display_name": "Python [conda env:base] *",
   "language": "python",
   "name": "conda-base-py"
  },
  "language_info": {
   "codemirror_mode": {
    "name": "ipython",
    "version": 3
   },
   "file_extension": ".py",
   "mimetype": "text/x-python",
   "name": "python",
   "nbconvert_exporter": "python",
   "pygments_lexer": "ipython3",
   "version": "3.12.7"
  }
 },
 "nbformat": 4,
 "nbformat_minor": 5
}
